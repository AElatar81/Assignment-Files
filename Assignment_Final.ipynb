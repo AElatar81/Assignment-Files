{
 "cells": [
  {
   "cell_type": "code",
   "execution_count": 13,
   "id": "82b61eac-696c-4937-b335-0e61606e0d83",
   "metadata": {},
   "outputs": [
    {
     "name": "stdout",
     "output_type": "stream",
     "text": [
      "Requirement already satisfied: yfinance in c:\\users\\5ae\\appdata\\local\\anaconda3\\lib\\site-packages (0.2.43)\n",
      "Requirement already satisfied: pandas>=1.3.0 in c:\\users\\5ae\\appdata\\local\\anaconda3\\lib\\site-packages (from yfinance) (2.2.2)\n",
      "Requirement already satisfied: numpy>=1.16.5 in c:\\users\\5ae\\appdata\\local\\anaconda3\\lib\\site-packages (from yfinance) (1.26.4)\n",
      "Requirement already satisfied: requests>=2.31 in c:\\users\\5ae\\appdata\\local\\anaconda3\\lib\\site-packages (from yfinance) (2.32.2)\n",
      "Requirement already satisfied: multitasking>=0.0.7 in c:\\users\\5ae\\appdata\\local\\anaconda3\\lib\\site-packages (from yfinance) (0.0.11)\n",
      "Requirement already satisfied: lxml>=4.9.1 in c:\\users\\5ae\\appdata\\local\\anaconda3\\lib\\site-packages (from yfinance) (5.2.1)\n",
      "Requirement already satisfied: platformdirs>=2.0.0 in c:\\users\\5ae\\appdata\\local\\anaconda3\\lib\\site-packages (from yfinance) (3.10.0)\n",
      "Requirement already satisfied: pytz>=2022.5 in c:\\users\\5ae\\appdata\\local\\anaconda3\\lib\\site-packages (from yfinance) (2024.1)\n",
      "Requirement already satisfied: frozendict>=2.3.4 in c:\\users\\5ae\\appdata\\local\\anaconda3\\lib\\site-packages (from yfinance) (2.4.2)\n",
      "Requirement already satisfied: peewee>=3.16.2 in c:\\users\\5ae\\appdata\\local\\anaconda3\\lib\\site-packages (from yfinance) (3.17.6)\n",
      "Requirement already satisfied: beautifulsoup4>=4.11.1 in c:\\users\\5ae\\appdata\\local\\anaconda3\\lib\\site-packages (from yfinance) (4.12.3)\n",
      "Requirement already satisfied: html5lib>=1.1 in c:\\users\\5ae\\appdata\\local\\anaconda3\\lib\\site-packages (from yfinance) (1.1)\n",
      "Requirement already satisfied: soupsieve>1.2 in c:\\users\\5ae\\appdata\\local\\anaconda3\\lib\\site-packages (from beautifulsoup4>=4.11.1->yfinance) (2.5)\n",
      "Requirement already satisfied: six>=1.9 in c:\\users\\5ae\\appdata\\local\\anaconda3\\lib\\site-packages (from html5lib>=1.1->yfinance) (1.16.0)\n",
      "Requirement already satisfied: webencodings in c:\\users\\5ae\\appdata\\local\\anaconda3\\lib\\site-packages (from html5lib>=1.1->yfinance) (0.5.1)\n",
      "Requirement already satisfied: python-dateutil>=2.8.2 in c:\\users\\5ae\\appdata\\local\\anaconda3\\lib\\site-packages (from pandas>=1.3.0->yfinance) (2.9.0.post0)\n",
      "Requirement already satisfied: tzdata>=2022.7 in c:\\users\\5ae\\appdata\\local\\anaconda3\\lib\\site-packages (from pandas>=1.3.0->yfinance) (2023.3)\n",
      "Requirement already satisfied: charset-normalizer<4,>=2 in c:\\users\\5ae\\appdata\\local\\anaconda3\\lib\\site-packages (from requests>=2.31->yfinance) (2.0.4)\n",
      "Requirement already satisfied: idna<4,>=2.5 in c:\\users\\5ae\\appdata\\local\\anaconda3\\lib\\site-packages (from requests>=2.31->yfinance) (3.7)\n",
      "Requirement already satisfied: urllib3<3,>=1.21.1 in c:\\users\\5ae\\appdata\\local\\anaconda3\\lib\\site-packages (from requests>=2.31->yfinance) (2.2.2)\n",
      "Requirement already satisfied: certifi>=2017.4.17 in c:\\users\\5ae\\appdata\\local\\anaconda3\\lib\\site-packages (from requests>=2.31->yfinance) (2024.7.4)\n"
     ]
    },
    {
     "name": "stderr",
     "output_type": "stream",
     "text": [
      "[*********************100%***********************]  1 of 1 completed\n"
     ]
    },
    {
     "data": {
      "text/html": [
       "<div>\n",
       "<style scoped>\n",
       "    .dataframe tbody tr th:only-of-type {\n",
       "        vertical-align: middle;\n",
       "    }\n",
       "\n",
       "    .dataframe tbody tr th {\n",
       "        vertical-align: top;\n",
       "    }\n",
       "\n",
       "    .dataframe thead th {\n",
       "        text-align: right;\n",
       "    }\n",
       "</style>\n",
       "<table border=\"1\" class=\"dataframe\">\n",
       "  <thead>\n",
       "    <tr style=\"text-align: right;\">\n",
       "      <th></th>\n",
       "      <th>Open</th>\n",
       "      <th>High</th>\n",
       "      <th>Low</th>\n",
       "      <th>Close</th>\n",
       "      <th>Adj Close</th>\n",
       "      <th>Volume</th>\n",
       "    </tr>\n",
       "    <tr>\n",
       "      <th>Date</th>\n",
       "      <th></th>\n",
       "      <th></th>\n",
       "      <th></th>\n",
       "      <th></th>\n",
       "      <th></th>\n",
       "      <th></th>\n",
       "    </tr>\n",
       "  </thead>\n",
       "  <tbody>\n",
       "    <tr>\n",
       "      <th>2016-01-04</th>\n",
       "      <td>15.381333</td>\n",
       "      <td>15.425333</td>\n",
       "      <td>14.600000</td>\n",
       "      <td>14.894000</td>\n",
       "      <td>14.894000</td>\n",
       "      <td>102406500</td>\n",
       "    </tr>\n",
       "    <tr>\n",
       "      <th>2016-01-05</th>\n",
       "      <td>15.090667</td>\n",
       "      <td>15.126000</td>\n",
       "      <td>14.666667</td>\n",
       "      <td>14.895333</td>\n",
       "      <td>14.895333</td>\n",
       "      <td>47802000</td>\n",
       "    </tr>\n",
       "    <tr>\n",
       "      <th>2016-01-06</th>\n",
       "      <td>14.666667</td>\n",
       "      <td>14.670000</td>\n",
       "      <td>14.398667</td>\n",
       "      <td>14.602667</td>\n",
       "      <td>14.602667</td>\n",
       "      <td>56686500</td>\n",
       "    </tr>\n",
       "    <tr>\n",
       "      <th>2016-01-07</th>\n",
       "      <td>14.279333</td>\n",
       "      <td>14.562667</td>\n",
       "      <td>14.244667</td>\n",
       "      <td>14.376667</td>\n",
       "      <td>14.376667</td>\n",
       "      <td>53314500</td>\n",
       "    </tr>\n",
       "    <tr>\n",
       "      <th>2016-01-08</th>\n",
       "      <td>14.524000</td>\n",
       "      <td>14.696000</td>\n",
       "      <td>14.051333</td>\n",
       "      <td>14.066667</td>\n",
       "      <td>14.066667</td>\n",
       "      <td>54421500</td>\n",
       "    </tr>\n",
       "  </tbody>\n",
       "</table>\n",
       "</div>"
      ],
      "text/plain": [
       "                 Open       High        Low      Close  Adj Close     Volume\n",
       "Date                                                                        \n",
       "2016-01-04  15.381333  15.425333  14.600000  14.894000  14.894000  102406500\n",
       "2016-01-05  15.090667  15.126000  14.666667  14.895333  14.895333   47802000\n",
       "2016-01-06  14.666667  14.670000  14.398667  14.602667  14.602667   56686500\n",
       "2016-01-07  14.279333  14.562667  14.244667  14.376667  14.376667   53314500\n",
       "2016-01-08  14.524000  14.696000  14.051333  14.066667  14.066667   54421500"
      ]
     },
     "execution_count": 13,
     "metadata": {},
     "output_type": "execute_result"
    }
   ],
   "source": [
    "#Q1\n",
    "\n",
    "\n",
    "!pip install yfinance\n",
    "\n",
    "import yfinance as yf\n",
    "TESLA= yf.Ticker(\"TSLA\")\n",
    "tesla_data= yf.download(\"TSLA\", start=\"2016-01-01\", end=\"2024-01-01\")\n",
    "tesla_data.head()"
   ]
  },
  {
   "cell_type": "code",
   "execution_count": 11,
   "id": "3a25c54d-545e-474d-b503-0fdfdbacb2d2",
   "metadata": {},
   "outputs": [
    {
     "name": "stdout",
     "output_type": "stream",
     "text": [
      "None\n"
     ]
    }
   ],
   "source": [
    "#Q2\n",
    "\n",
    "import requests\n",
    "from bs4 import BeautifulSoup\n",
    "\n",
    "\n",
    "url = 'https://finance.yahoo.com/quote/TSLA/financials?p=TSLA'\n",
    "response = requests.get(\n",
    "    url,\n",
    "    headers={\n",
    "        'User-Agent': \"Mozilla/5.0 (Windows NT 10.0; Win64; x64) AppleWebKit/537.36 (KHTML, like Gecko) Chrome/129.0.0.0 Safari/537.36\",\n",
    "    },\n",
    ")\n",
    "\n",
    "\n",
    "soup = BeautifulSoup(response.text, 'html.parser')\n",
    "table = soup.find('table')\n",
    "print(table)"
   ]
  },
  {
   "cell_type": "code",
   "execution_count": 1,
   "id": "b578722d-43cb-4a81-a779-66910598e4b4",
   "metadata": {},
   "outputs": [
    {
     "name": "stdout",
     "output_type": "stream",
     "text": [
      "                                Open       High        Low      Close  \\\n",
      "Date                                                                    \n",
      "2023-01-03 00:00:00-05:00  18.639999  19.260000  17.090000  17.200001   \n",
      "2023-01-04 00:00:00-05:00  17.250000  17.930000  16.900000  17.320000   \n",
      "2023-01-05 00:00:00-05:00  17.059999  17.260000  15.890000  16.219999   \n",
      "2023-01-06 00:00:00-05:00  16.000000  16.570000  15.410000  16.459999   \n",
      "2023-01-09 00:00:00-05:00  16.650000  17.129999  16.360001  16.379999   \n",
      "\n",
      "                            Volume  Dividends  Stock Splits  \n",
      "Date                                                         \n",
      "2023-01-03 00:00:00-05:00  5135200        0.0           0.0  \n",
      "2023-01-04 00:00:00-05:00  3939300        0.0           0.0  \n",
      "2023-01-05 00:00:00-05:00  6066200        0.0           0.0  \n",
      "2023-01-06 00:00:00-05:00  4823400        0.0           0.0  \n",
      "2023-01-09 00:00:00-05:00  3522600        0.0           0.0  \n"
     ]
    }
   ],
   "source": [
    "# Q3  \n",
    "\n",
    "import yfinance as yf\n",
    "GAMESTOP= yf.Ticker(\"GME\")\n",
    "#gmst_data= yf.download(\"GMST\", start=\"2023-01-01\", end=\"2023-12-31\")\n",
    "#gmst_data.head()\n",
    "\n",
    "gmst_data=GAMESTOP.history(start=\"2023-01-01\", end=\"2023-12-31\", interval=\"1d\")\n",
    "print(gmst_data.head())"
   ]
  },
  {
   "cell_type": "code",
   "execution_count": 5,
   "id": "43a2e283-ea17-4fd0-9648-831a6ef8ac67",
   "metadata": {},
   "outputs": [
    {
     "name": "stdout",
     "output_type": "stream",
     "text": [
      "<table>\n",
      "<tbody><tr>\n",
      "<td>\n",
      "<img alt=\"Yahoo Logo\" src=\"https://s.yimg.com/rz/p/yahoo_frontpage_en-US_s_f_p_205x58_frontpage.png\"/>\n",
      "<h1 style=\"margin-top:20px;\">Will be right back...</h1>\n",
      "<p id=\"message-1\">Thank you for your patience.</p>\n",
      "<p id=\"message-2\">Our engineers are working quickly to resolve the issue.</p>\n",
      "</td>\n",
      "</tr>\n",
      "</tbody></table>\n"
     ]
    }
   ],
   "source": [
    "#Q4\n",
    "\n",
    "import requests\n",
    "from bs4 import BeautifulSoup\n",
    "\n",
    "\n",
    "\n",
    "# url = 'https://cf-courses-data.s3.us.cloud-object-storage.appdomain.cloud/IBMDeveloperSkillsNetwork-PY0220EN-SkillsNetwork/labs/project/stock.html'\n",
    "url = 'https://finance.yahoo.com/quote/TSLA/financials?p=TSLA'\n",
    "#url = 'https://finance.yahoo.com/quote/GME/financials?p=GME'\n",
    "response = requests.get(url)\n",
    "\n",
    "\n",
    "soup = BeautifulSoup(response.text, 'html.parser')\n",
    "table = soup.find('table')\n",
    "print(table)"
   ]
  },
  {
   "cell_type": "code",
   "execution_count": null,
   "id": "e985b66d-5ce3-4fb2-ba1b-1b1b04d7ef37",
   "metadata": {},
   "outputs": [],
   "source": []
  }
 ],
 "metadata": {
  "kernelspec": {
   "display_name": "Python 3 (ipykernel)",
   "language": "python",
   "name": "python3"
  },
  "language_info": {
   "codemirror_mode": {
    "name": "ipython",
    "version": 3
   },
   "file_extension": ".py",
   "mimetype": "text/x-python",
   "name": "python",
   "nbconvert_exporter": "python",
   "pygments_lexer": "ipython3",
   "version": "3.12.4"
  }
 },
 "nbformat": 4,
 "nbformat_minor": 5
}
